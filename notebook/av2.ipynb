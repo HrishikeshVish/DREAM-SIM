{
 "cells": [
  {
   "cell_type": "code",
   "execution_count": 1,
   "metadata": {},
   "outputs": [],
   "source": [
    "from planner.data import AV2DataModule\n",
    "from planner.data.viz import plot_scenario"
   ]
  },
  {
   "cell_type": "code",
   "execution_count": 2,
   "metadata": {},
   "outputs": [
    {
     "name": "stdout",
     "output_type": "stream",
     "text": [
      "RADIUS:  50.0\n"
     ]
    }
   ],
   "source": [
    "dm = AV2DataModule(\n",
    "    batch_size=1,\n",
    "    root=\"/media/csuser/DATA/seneva/data/av2/\",\n",
    "    radius=50.0,\n",
    "    num_workers=1,\n",
    "    pin_memory=True,\n",
    "    train=False,\n",
    "    val=True,    \n",
    "    test=False,\n",
    ")\n",
    "dl = iter(dm.val_dataloader())"
   ]
  },
  {
   "cell_type": "code",
   "execution_count": 3,
   "metadata": {},
   "outputs": [
    {
     "name": "stdout",
     "output_type": "stream",
     "text": [
      "<planner.data.components.av2.AV2Dataset object at 0x7942a5a74e50>\n"
     ]
    }
   ],
   "source": [
    "ds = dm.val_dataset\n",
    "print(ds)"
   ]
  },
  {
   "cell_type": "code",
   "execution_count": 4,
   "metadata": {},
   "outputs": [
    {
     "name": "stdout",
     "output_type": "stream",
     "text": [
      "Scenario(batch_dims=torch.Size([1]), num_map_points=10000, num_objects=288)\n"
     ]
    }
   ],
   "source": [
    "data = next(dl)\n",
    "\n",
    "print(data)"
   ]
  },
  {
   "cell_type": "code",
   "execution_count": 5,
   "metadata": {},
   "outputs": [
    {
     "name": "stdout",
     "output_type": "stream",
     "text": [
      "Type of ax: <class 'matplotlib.axes._axes.Axes'>\n",
      "Type of ax after plot map: <class 'matplotlib.axes._axes.Axes'>\n",
      "Type of ax after _plot_agents: <class 'matplotlib.axes._axes.Axes'>\n"
     ]
    },
    {
     "data": {
      "text/plain": [
       "<Axes: >"
      ]
     },
     "execution_count": 5,
     "metadata": {},
     "output_type": "execute_result"
    },
    {
     "data": {
      "image/png": "[encoded data removed]",
      "text/plain": [
       "<Figure size 640x480 with 1 Axes>"
      ]
     },
     "metadata": {},
     "output_type": "display_data"
    }
   ],
   "source": [
    "import matplotlib.pyplot as plt\n",
    "\n",
    "fig, ax = plt.subplots()\n",
    "plot_scenario(scenario=data[0], ax=ax)\n"
   ]
  },
  {
   "cell_type": "code",
   "execution_count": 6,
   "metadata": {},
   "outputs": [
    {
     "name": "stdout",
     "output_type": "stream",
     "text": [
      " AT t =  0  Guidance score:  150.99693298339844\n",
      " AT t =  1  Guidance score:  150.9998016357422\n",
      " AT t =  2  Guidance score:  151.0028839111328\n",
      " AT t =  3  Guidance score:  151.25270080566406\n",
      " AT t =  4  Guidance score:  152.3318634033203\n",
      " AT t =  5  Guidance score:  154.11407470703125\n",
      " AT t =  6  Guidance score:  157.59547424316406\n",
      " AT t =  7  Guidance score:  168.63742065429688\n",
      " AT t =  8  Guidance score:  213.7411346435547\n",
      " AT t =  9  Guidance score:  401.78594970703125\n",
      " AT t =  0  Guidance score:  175.13607788085938\n",
      " AT t =  1  Guidance score:  175.16929626464844\n",
      " AT t =  2  Guidance score:  175.50714111328125\n",
      " AT t =  3  Guidance score:  176.3931427001953\n",
      " AT t =  4  Guidance score:  177.80792236328125\n",
      " AT t =  5  Guidance score:  180.51634216308594\n",
      " AT t =  6  Guidance score:  187.30352783203125\n",
      " AT t =  7  Guidance score:  206.26235961914062\n",
      " AT t =  8  Guidance score:  264.1459045410156\n",
      " AT t =  9  Guidance score:  442.5105285644531\n",
      " AT t =  0  Guidance score:  152.79153442382812\n",
      " AT t =  1  Guidance score:  152.76768493652344\n",
      " AT t =  2  Guidance score:  152.85836791992188\n",
      " AT t =  3  Guidance score:  153.5602569580078\n",
      " AT t =  4  Guidance score:  155.1265869140625\n",
      " AT t =  5  Guidance score:  157.79507446289062\n",
      " AT t =  6  Guidance score:  164.5407257080078\n",
      " AT t =  7  Guidance score:  185.447265625\n",
      " AT t =  8  Guidance score:  251.2501678466797\n",
      " AT t =  9  Guidance score:  448.8610534667969\n",
      " AT t =  0  Guidance score:  121.28963470458984\n",
      " AT t =  1  Guidance score:  121.24700927734375\n",
      " AT t =  2  Guidance score:  121.251220703125\n",
      " AT t =  3  Guidance score:  121.64411926269531\n",
      " AT t =  4  Guidance score:  122.90941619873047\n",
      " AT t =  5  Guidance score:  125.46418762207031\n",
      " AT t =  6  Guidance score:  132.04733276367188\n",
      " AT t =  7  Guidance score:  152.3000946044922\n",
      " AT t =  8  Guidance score:  217.91046142578125\n",
      " AT t =  9  Guidance score:  415.13970947265625\n",
      " AT t =  0  Guidance score:  232.52877807617188\n",
      " AT t =  1  Guidance score:  233.07810974121094\n",
      " AT t =  2  Guidance score:  233.83938598632812\n",
      " AT t =  3  Guidance score:  234.76341247558594\n",
      " AT t =  4  Guidance score:  236.19248962402344\n",
      " AT t =  5  Guidance score:  239.02012634277344\n",
      " AT t =  6  Guidance score:  245.76681518554688\n",
      " AT t =  7  Guidance score:  264.13836669921875\n",
      " AT t =  8  Guidance score:  314.8297119140625\n",
      " AT t =  9  Guidance score:  439.96295166015625\n",
      " AT t =  0  Guidance score:  171.19607543945312\n",
      " AT t =  1  Guidance score:  171.40908813476562\n",
      " AT t =  2  Guidance score:  171.98374938964844\n",
      " AT t =  3  Guidance score:  172.959716796875\n",
      " AT t =  4  Guidance score:  174.4459228515625\n",
      " AT t =  5  Guidance score:  177.487548828125\n",
      " AT t =  6  Guidance score:  184.6876220703125\n",
      " AT t =  7  Guidance score:  202.3571319580078\n",
      " AT t =  8  Guidance score:  248.52101135253906\n",
      " AT t =  9  Guidance score:  377.6834716796875\n",
      " AT t =  0  Guidance score:  129.87847900390625\n",
      " AT t =  1  Guidance score:  129.8932647705078\n",
      " AT t =  2  Guidance score:  130.0322265625\n",
      " AT t =  3  Guidance score:  130.54559326171875\n",
      " AT t =  4  Guidance score:  131.48110961914062\n",
      " AT t =  5  Guidance score:  133.16046142578125\n",
      " AT t =  6  Guidance score:  137.72962951660156\n",
      " AT t =  7  Guidance score:  152.85284423828125\n",
      " AT t =  8  Guidance score:  204.0646514892578\n",
      " AT t =  9  Guidance score:  358.5038146972656\n",
      "torch.Size([1, 2, 1, 5]) torch.Size([1, 2, 1])\n",
      "torch.Size([1, 2, 84, 5]) torch.Size([1, 2, 84])\n",
      "torch.Size([1, 2, 6, 84, 5]) torch.Size([1, 2, 6, 84, 5, 5])\n",
      "torch.Size([288, 110])\n"
     ]
    }
   ],
   "source": [
    "from planner.model.senevam import SeNeVAMLightningModule\n",
    "import torch\n",
    "ckpt_path = '/media/csuser/DATA/seneva_multi/logs/train/runs/senevam_av2_radius_50/2025-10-01_21-57-39/checkpoints/epoch_011_697f404.ckpt'\n",
    "model = SeNeVAMLightningModule.load_from_checkpoint(\n",
    "    ckpt_path,\n",
    "    map_location=\"cpu\",\n",
    "    strict=True,\n",
    ")\n",
    "model.eval()\n",
    "#print(data)\n",
    "model.forward(scenario=data, horizon=80)\n",
    "# NOTE: equivanlently\n",
    "with torch.no_grad():\n",
    "    current, curr_valid = model.get_current(scenario=data, include_sdc=False)\n",
    "    target, tar_valid = model.get_target(scenario=data, include_sdc=False)\n",
    "    output = model.forward(scenario=data, horizon=84, include_sdc=False)[0]\n",
    "print(current.shape, curr_valid.shape)\n",
    "print(target.shape, tar_valid.shape)\n",
    "#print(output)\n",
    "print(output.y_means.shape, output.y_covars.shape)\n",
    "print(data[0].log_trajectory.shape)"
   ]
  },
  {
   "cell_type": "code",
   "execution_count": null,
   "metadata": {},
   "outputs": [],
   "source": []
  },
  {
   "cell_type": "code",
   "execution_count": 7,
   "metadata": {},
   "outputs": [],
   "source": [
    "# Helper function: Plot the heatmap of uncertainty\n",
    "# NOTE: this function is for single-agent heatmap plotting\n",
    "# TODO: consider about adding log-prob up or other ways to aggregate\n",
    "# multi-agent probabilities\n",
    "from typing import Any, Literal, Optional\n",
    "import numpy as np\n",
    "import numpy.typing as npt\n",
    "import math\n",
    "import matplotlib.pyplot as plt\n",
    "def plot_full_uncertainty(\n",
    "    means: npt.NDArray,\n",
    "    covars: npt.NDArray,\n",
    "    mixtures: npt.NDArray,\n",
    "    ax: Optional[plt.Axes] = None,\n",
    "    n_std: int = 1,\n",
    "    heatmap_type: Literal[\"prob\", \"log_prob\", \"logit\"] = \"log_prob\",\n",
    "    colorbar: bool = True,\n",
    "    *args: Any,\n",
    "    **kwargs: Any,\n",
    ") -> plt.Axes:\n",
    "    if ax is None:\n",
    "        _, ax = plt.subplots(1, 1)\n",
    "\n",
    "    # step 1: obtain the rectangle region covering at least 68%\n",
    "    # of the probability density function\n",
    "    minx = np.min(means[:, :, 0] - n_std * np.sqrt(covars[..., 0, 0]))\n",
    "    maxx = np.max(means[:, :, 0] + n_std * np.sqrt(covars[..., 0, 0]))\n",
    "    miny = np.min(means[:, :, 1] - n_std * np.sqrt(covars[..., 1, 1]))\n",
    "    maxy = np.max(means[:, :, 1] + n_std * np.sqrt(covars[..., 1, 1]))\n",
    "\n",
    "    probs, mask = [], []\n",
    "\n",
    "    # NOTE: efficient way to evaluate prob\n",
    "    x, y = np.linspace(minx, maxx, 100), np.linspace(miny, maxy, 100)\n",
    "    x, y = np.meshgrid(x, y)\n",
    "    points = np.vstack((x.ravel(), y.ravel())).T  # shape (10000, 2)\n",
    "\n",
    "    for mean, covar, pi in zip(means, covars, mixtures):\n",
    "        # calculate the Gaussian probability density function\n",
    "        inv_covar = np.linalg.inv(covar)  # shape (T, 2, 2)\n",
    "        det_covar = np.linalg.det(covar)  # shape (T,)\n",
    "        diff = points[:, None, ...] - mean[None, ...]  # shape (10000, T, 2)\n",
    "        mahalanobis = np.einsum(\"btj, tij, bti -> bt\", diff, inv_covar, diff)\n",
    "        log_prob = -0.5 * (\n",
    "            mahalanobis + np.log(det_covar + 1e-10) + 2 * np.log(2 * np.pi)\n",
    "        )\n",
    "        log_prob += np.log(pi + 1e-10)\n",
    "        probs.append(np.exp(log_prob))\n",
    "\n",
    "        # TODO: aggregate the probabilities from multiple agents?\n",
    "\n",
    "        # NOTE: filter out outliers\n",
    "        mask.append(\n",
    "            np.reshape(\n",
    "                np.all(mahalanobis > n_std * math.sqrt(2), -1),\n",
    "                (100, 100),\n",
    "            ).astype(bool)\n",
    "        )\n",
    "    mask = np.all(mask, axis=0)\n",
    "\n",
    "    probs = np.stack(probs, axis=0)\n",
    "    probs = np.mean(np.sum(probs, axis=0), axis=-1)\n",
    "    probs = np.reshape(probs, (100, 100))\n",
    "    probs = np.ma.masked_where(mask, probs)\n",
    "    if heatmap_type == \"log_prob\":\n",
    "        probs = np.log(probs + 1e-10)\n",
    "        heatmap_name = \"Log-Probability\"\n",
    "    elif heatmap_type == \"logit\":\n",
    "        probs = np.log((probs + 1e-10) / (1 - probs - 1e-10))\n",
    "        heatmap_name = \"Logit\"\n",
    "    else:\n",
    "        heatmap_name = \"Probability\"\n",
    "    cbar = ax.contourf(x, y, probs, *args, **kwargs)\n",
    "\n",
    "    if colorbar:\n",
    "        if len(ax.get_figure().axes) < 2:\n",
    "            cbar = ax.get_figure().colorbar(cbar, ax=ax)\n",
    "            cbar.ax.set_ylabel(\n",
    "                heatmap_name + \" to be visited\",\n",
    "                rotation=90,\n",
    "                labelpad=5,\n",
    "                fontdict={\"color\": \"white\"},\n",
    "            )\n",
    "            cbar.ax.set_yticklabels(\n",
    "                cbar.ax.get_yticklabels(), fontdict={\"color\": \"white\"}\n",
    "            )\n",
    "\n",
    "    return ax"
   ]
  },
  {
   "cell_type": "code",
   "execution_count": 8,
   "metadata": {},
   "outputs": [
    {
     "name": "stdout",
     "output_type": "stream",
     "text": [
      "Type of ax: <class 'matplotlib.axes._axes.Axes'>\n",
      "Type of ax after plot map: <class 'matplotlib.axes._axes.Axes'>\n",
      "Type of ax after _plot_agents: <class 'matplotlib.axes._axes.Axes'>\n"
     ]
    },
    {
     "data": {
      "image/png": "[encoded data removed]",
      "text/plain": [
       "<Figure size 640x480 with 1 Axes>"
      ]
     },
     "metadata": {},
     "output_type": "display_data"
    }
   ],
   "source": [
    "#%matplotlib widget\n",
    "import matplotlib.pyplot as plt\n",
    "\n",
    "from planner.data.viz import plot_scenario\n",
    "\n",
    "BATCH_INDEX = 0\n",
    "\n",
    "fig, ax = plt.subplots(1, 1)\n",
    "\n",
    "# plot the scenario\n",
    "ax = plot_scenario(\n",
    "    scenario=data[BATCH_INDEX].to(\"cpu\"), ax=ax, crop_to_bounds=True\n",
    ")\n",
    "\n",
    "scenario_id = data[BATCH_INDEX].scenario_id.decode(\"utf-8\")\n",
    "map_api = ds.get_map_api(scenario_id=scenario_id)\n",
    "for _, area in map_api.vector_drivable_areas.items():\n",
    "    ax.fill(area.xyz[..., 0], area.xyz[..., 1], color=\"#5E5E5D\", zorder=0)\n",
    "\n",
    "# plot the ground-truth observations\n",
    "cum_target = target.cumsum(dim=-2) + current\n",
    "for tar, val in zip(cum_target[BATCH_INDEX], tar_valid[BATCH_INDEX]):\n",
    "    tar = tar[val]\n",
    "    ax.plot(\n",
    "        tar[..., 0].cpu().numpy(),\n",
    "        tar[..., 1].cpu().numpy(),\n",
    "        \"g-\",\n",
    "        lw=2,\n",
    "        alpha=0.75,\n",
    "        zorder=10,\n",
    "    )\n",
    "\n",
    "# plot the predictions\n",
    "cum_y_means = output.y_means.cumsum(dim=-2) + current.unsqueeze(-3)\n",
    "cum_y_covars = output.y_covars.cumsum(dim=-3)\n",
    "for y_means, val in zip(cum_y_means[BATCH_INDEX], tar_valid[BATCH_INDEX]):\n",
    "    for y_mean in y_means:\n",
    "        xy = y_mean[val][..., 0:2].cpu().numpy()\n",
    "        ax.plot(\n",
    "            xy[..., 0],\n",
    "            xy[..., 1],\n",
    "            \"r--\",\n",
    "            lw=2,\n",
    "            alpha=0.5,\n",
    "            zorder=15,\n",
    "        )\n",
    "\n",
    "# ax = plot_full_uncertainty(\n",
    "#     means=cum_y_means[BATCH_INDEX, 0, ..., 0:2].cpu().numpy(),\n",
    "#     covars=cum_y_covars[BATCH_INDEX, 0, ..., 0:2, 0:2].cpu().numpy(),\n",
    "#     mixtures=np.ones(6) / 6,\n",
    "#     ax=ax,\n",
    "#     n_std=1,\n",
    "#     heatmap_type=\"log_prob\",\n",
    "#     alpha=0.75,\n",
    "#     zorder=15,\n",
    "# )\n",
    "fig.set_facecolor(\"#000000\")"
   ]
  },
  {
   "cell_type": "code",
   "execution_count": 9,
   "metadata": {},
   "outputs": [],
   "source": [
    "from dataclasses import dataclass\n",
    "import torch\n",
    "@dataclass\n",
    "class SeNeVAMOutput:\n",
    "\n",
    "    means: torch.Tensor\n",
    "    \"\"\"torch.Tensor: The Gaussian means of shape `(*, K, T, 2)`.\"\"\"\n",
    "    covar: torch.Tensor\n",
    "    \"\"\"torch.Tensor:...\"\"\"\n",
    "\n",
    "from scipy.stats import Normal"
   ]
  },
  {
   "cell_type": "code",
   "execution_count": 10,
   "metadata": {},
   "outputs": [
    {
     "data": {
      "text/plain": [
       "torch.Size([1, 110])"
      ]
     },
     "execution_count": 10,
     "metadata": {},
     "output_type": "execute_result"
    }
   ],
   "source": [
    "hist_traj = data.log_trajectory\n",
    "hist_traj[data.object_property.is_sdc].shape"
   ]
  }
 ],
 "metadata": {
  "kernelspec": {
   "display_name": "seneva",
   "language": "python",
   "name": "python3"
  },
  "language_info": {
   "codemirror_mode": {
    "name": "ipython",
    "version": 3
   },
   "file_extension": ".py",
   "mimetype": "text/x-python",
   "name": "python",
   "nbconvert_exporter": "python",
   "pygments_lexer": "ipython3",
   "version": "3.10.18"
  }
 },
 "nbformat": 4,
 "nbformat_minor": 2
}
